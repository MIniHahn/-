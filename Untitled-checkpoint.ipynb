{
 "cells": [
  {
   "cell_type": "code",
   "execution_count": 2,
   "metadata": {},
   "outputs": [
    {
     "name": "stdout",
     "output_type": "stream",
     "text": [
      "Hi!I'm mini.\n",
      "How old are you?\n",
      "Do you like me?\n",
      "'mini' loves 'ari'\n",
      "mini loves ari\n"
     ]
    }
   ],
   "source": [
    "print (\"Hi!I'm mini.\")  \n",
    "print (\"How old are you?\") #it's a secret \n",
    "print (\"Do you like me?\") #no\n",
    "\n",
    "a = (\"mini\")\n",
    "b = (\"ari\")\n",
    "print (\"%r loves %r\" %(a,b))\n",
    "print (\"%s loves %s\" % (a,b))"
   ]
  },
  {
   "cell_type": "code",
   "execution_count": 9,
   "metadata": {},
   "outputs": [],
   "source": [
    "from sys import argv #import使python实现更多模块（module）\n",
    "#argv为参数变量\n",
    "i,like,it = argv #将agv解包，参数给左边变量"
   ]
  },
  {
   "cell_type": "code",
   "execution_count": 12,
   "metadata": {},
   "outputs": [],
   "source": [
    "def print_two(*arg): #参数要放在括号内，函数名紧跟着括号，以冒号结束\n",
    "    print (\"%r\" %arg) #前有四个空格"
   ]
  },
  {
   "cell_type": "code",
   "execution_count": 25,
   "metadata": {},
   "outputs": [
    {
     "name": "stdout",
     "output_type": "stream",
     "text": [
      "clever\n",
      "good\n",
      "great\n",
      "clever\n"
     ]
    }
   ],
   "source": [
    "#if作用\n",
    "if 20>0: #记得if句后要放冒号！！！！\n",
    "    print (\"clever\") #前面空四隔\n",
    "if 20<30: \n",
    "    print(\"good\")\n",
    "if 20!=1:\n",
    "    print(\"great\")\n",
    "    \n",
    "#elif作用\n",
    "if 20>0: \n",
    "    print (\"clever\")\n",
    "elif 20<30: #elif句后也要放冒号\n",
    "    print (\"good\")\n",
    "else:\n",
    "    print (\"...\")\n",
    "    "
   ]
  },
  {
   "cell_type": "code",
   "execution_count": null,
   "metadata": {
    "collapsed": true
   },
   "outputs": [],
   "source": []
  }
 ],
 "metadata": {
  "kernelspec": {
   "display_name": "Python 3",
   "language": "python",
   "name": "python3"
  },
  "language_info": {
   "codemirror_mode": {
    "name": "ipython",
    "version": 3
   },
   "file_extension": ".py",
   "mimetype": "text/x-python",
   "name": "python",
   "nbconvert_exporter": "python",
   "pygments_lexer": "ipython3",
   "version": "3.6.2"
  }
 },
 "nbformat": 4,
 "nbformat_minor": 2
}
